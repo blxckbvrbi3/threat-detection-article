{
 "cells": [
  {
   "cell_type": "markdown",
   "metadata": {},
   "source": [
    "<h1>Links to datasets</h1>"
   ]
  },
  {
   "cell_type": "markdown",
   "metadata": {},
   "source": [
    "Link to dataset: https://www.kaggle.com/code/egenius/starter-cert-insider-threat-cfc11c55-1/input"
   ]
  },
  {
   "cell_type": "markdown",
   "metadata": {},
   "source": [
    "Alternative dataset: https://www.kaggle.com/datasets/mrajaxnp/cert-insider-threat-detection-research/data?select=http.csv"
   ]
  },
  {
   "cell_type": "markdown",
   "metadata": {},
   "source": [
    "<h1>Imported Libraries</h1>"
   ]
  },
  {
   "cell_type": "code",
   "execution_count": 563,
   "metadata": {},
   "outputs": [
    {
     "name": "stderr",
     "output_type": "stream",
     "text": [
      "[nltk_data] Downloading package punkt to\n",
      "[nltk_data]     C:\\Users\\OnilChibaya\\AppData\\Roaming\\nltk_data...\n",
      "[nltk_data]   Package punkt is already up-to-date!\n",
      "[nltk_data] Downloading package stopwords to\n",
      "[nltk_data]     C:\\Users\\OnilChibaya\\AppData\\Roaming\\nltk_data...\n",
      "[nltk_data]   Package stopwords is already up-to-date!\n"
     ]
    }
   ],
   "source": [
    "# Basic Libraries\n",
    "import pandas as pd\n",
    "import re\n",
    "import string\n",
    "import numpy as np\n",
    "import nltk\n",
    "from scipy import stats\n",
    "import warnings\n",
    "\n",
    "\n",
    "# NLP Tools\n",
    "from nltk.tokenize import sent_tokenize, word_tokenize\n",
    "from nltk.corpus import stopwords\n",
    "from nltk.stem import PorterStemmer\n",
    "from textblob import TextBlob\n",
    "\n",
    "# Data Preprocessing\n",
    "from sklearn.preprocessing import StandardScaler\n",
    "\n",
    "# Visualization\n",
    "import matplotlib.pyplot as plt\n",
    "import seaborn as sns\n",
    "\n",
    "# Machine Learning Models and Metrics\n",
    "from sklearn.model_selection import train_test_split, cross_val_score, KFold\n",
    "from sklearn.ensemble import RandomForestClassifier, RandomForestRegressor, VotingClassifier, IsolationForest\n",
    "from sklearn.svm import SVC\n",
    "from sklearn.linear_model import LogisticRegression, LinearRegression, Lasso, Ridge\n",
    "from sklearn.tree import DecisionTreeClassifier\n",
    "from sklearn.metrics import accuracy_score, recall_score, f1_score, classification_report, mean_squared_error\n",
    "from sklearn.feature_selection import RFE\n",
    "from sklearn.model_selection import GridSearchCV\n",
    "\n",
    "# Download required NLTK data (only need to do this once)\n",
    "nltk.download('punkt')\n",
    "nltk.download('stopwords')\n",
    "warnings.filterwarnings('ignore')"
   ]
  },
  {
   "cell_type": "markdown",
   "metadata": {},
   "source": [
    "<h1>Preprocessing</h1>"
   ]
  },
  {
   "cell_type": "markdown",
   "metadata": {},
   "source": [
    "<h4>Import Dataset</h4>"
   ]
  },
  {
   "cell_type": "code",
   "execution_count": 564,
   "metadata": {},
   "outputs": [],
   "source": [
    "dataset = pd.read_csv('email-test.csv')\n",
    "# dataset.head()"
   ]
  },
  {
   "cell_type": "markdown",
   "metadata": {},
   "source": [
    "For testing perposes. "
   ]
  },
  {
   "cell_type": "code",
   "execution_count": 565,
   "metadata": {},
   "outputs": [
    {
     "data": {
      "text/html": [
       "<div>\n",
       "<style scoped>\n",
       "    .dataframe tbody tr th:only-of-type {\n",
       "        vertical-align: middle;\n",
       "    }\n",
       "\n",
       "    .dataframe tbody tr th {\n",
       "        vertical-align: top;\n",
       "    }\n",
       "\n",
       "    .dataframe thead th {\n",
       "        text-align: right;\n",
       "    }\n",
       "</style>\n",
       "<table border=\"1\" class=\"dataframe\">\n",
       "  <thead>\n",
       "    <tr style=\"text-align: right;\">\n",
       "      <th></th>\n",
       "      <th>id</th>\n",
       "      <th>date</th>\n",
       "      <th>user</th>\n",
       "      <th>pc</th>\n",
       "      <th>content</th>\n",
       "    </tr>\n",
       "  </thead>\n",
       "  <tbody>\n",
       "    <tr>\n",
       "      <th>0</th>\n",
       "      <td>{F3E2-X3MV05YQ-3516SZDT}</td>\n",
       "      <td>01/02/2010 07:19:41</td>\n",
       "      <td>SDH2394</td>\n",
       "      <td>PC-5849</td>\n",
       "      <td>D0-CF-11-E0-A1-B1-1A-E1 Ernesztin's brother, L...</td>\n",
       "    </tr>\n",
       "    <tr>\n",
       "      <th>1</th>\n",
       "      <td>{I6N1-Z7VL92UY-8715ESKQ}</td>\n",
       "      <td>01/02/2010 07:21:30</td>\n",
       "      <td>SDH2394</td>\n",
       "      <td>PC-5849</td>\n",
       "      <td>25-50-44-46-2D ---- Bengali As do many other T...</td>\n",
       "    </tr>\n",
       "    <tr>\n",
       "      <th>2</th>\n",
       "      <td>{G4X5-J7MH70FV-8936QVSB}</td>\n",
       "      <td>01/02/2010 07:22:11</td>\n",
       "      <td>SDH2394</td>\n",
       "      <td>PC-5849</td>\n",
       "      <td>D0-CF-11-E0-A1-B1-1A-E1 Ernesztin's brother, L...</td>\n",
       "    </tr>\n",
       "    <tr>\n",
       "      <th>3</th>\n",
       "      <td>{M2M7-Z5ST21EU-6704NSKO}</td>\n",
       "      <td>01/02/2010 07:24:06</td>\n",
       "      <td>SDH2394</td>\n",
       "      <td>PC-5849</td>\n",
       "      <td>D0-CF-11-E0-A1-B1-1A-E1 After the death of his...</td>\n",
       "    </tr>\n",
       "    <tr>\n",
       "      <th>4</th>\n",
       "      <td>{R0A9-O9XB25PE-9236MALV}</td>\n",
       "      <td>01/02/2010 07:24:45</td>\n",
       "      <td>SDH2394</td>\n",
       "      <td>PC-5849</td>\n",
       "      <td>25-50-44-46-2D Although he restored some of th...</td>\n",
       "    </tr>\n",
       "  </tbody>\n",
       "</table>\n",
       "</div>"
      ],
      "text/plain": [
       "                         id                 date     user       pc  \\\n",
       "0  {F3E2-X3MV05YQ-3516SZDT}  01/02/2010 07:19:41  SDH2394  PC-5849   \n",
       "1  {I6N1-Z7VL92UY-8715ESKQ}  01/02/2010 07:21:30  SDH2394  PC-5849   \n",
       "2  {G4X5-J7MH70FV-8936QVSB}  01/02/2010 07:22:11  SDH2394  PC-5849   \n",
       "3  {M2M7-Z5ST21EU-6704NSKO}  01/02/2010 07:24:06  SDH2394  PC-5849   \n",
       "4  {R0A9-O9XB25PE-9236MALV}  01/02/2010 07:24:45  SDH2394  PC-5849   \n",
       "\n",
       "                                             content  \n",
       "0  D0-CF-11-E0-A1-B1-1A-E1 Ernesztin's brother, L...  \n",
       "1  25-50-44-46-2D ---- Bengali As do many other T...  \n",
       "2  D0-CF-11-E0-A1-B1-1A-E1 Ernesztin's brother, L...  \n",
       "3  D0-CF-11-E0-A1-B1-1A-E1 After the death of his...  \n",
       "4  25-50-44-46-2D Although he restored some of th...  "
      ]
     },
     "execution_count": 565,
     "metadata": {},
     "output_type": "execute_result"
    }
   ],
   "source": [
    "dataset = dataset.head(10000)\n",
    "dataset = dataset[['id', 'date', 'user', 'pc', 'content']]\n",
    "dataset.head()"
   ]
  },
  {
   "cell_type": "markdown",
   "metadata": {},
   "source": [
    "<h2>Pre-preprocessing</h2>"
   ]
  },
  {
   "cell_type": "markdown",
   "metadata": {},
   "source": [
    "Split the 'datetime' column into 'date' and 'time' columns"
   ]
  },
  {
   "cell_type": "code",
   "execution_count": 566,
   "metadata": {},
   "outputs": [],
   "source": [
    "# Split the 'datetime' column into 'date' and 'time' columns\n",
    "split_df = dataset['date'].str.split(' ', expand=True)\n",
    "dataset['date'] = split_df[0]\n",
    "dataset['time'] = split_df[1].fillna('00:00:00')  # Fill missing time values with a default time if needed\n",
    "# dataset.head()"
   ]
  },
  {
   "cell_type": "markdown",
   "metadata": {},
   "source": [
    "Convert email addresses to the number of addresses in each row"
   ]
  },
  {
   "cell_type": "code",
   "execution_count": 567,
   "metadata": {},
   "outputs": [],
   "source": [
    "# Convert email addresses to the number of addresses in each row\n",
    "# dataset['to'] = dataset['to'].str.count(';') + 1\n",
    "# dataset.head()"
   ]
  },
  {
   "cell_type": "markdown",
   "metadata": {},
   "source": [
    "Convert cc addresses to the number of addresses in each row"
   ]
  },
  {
   "cell_type": "code",
   "execution_count": 568,
   "metadata": {},
   "outputs": [],
   "source": [
    "# Convert cc addresses to the number of addresses in each row\n",
    "# dataset['cc'] = dataset['cc'].apply(lambda x: x.count(';') + 1 if pd.notna(x) else 0)\n",
    "# dataset.head()"
   ]
  },
  {
   "cell_type": "markdown",
   "metadata": {},
   "source": [
    "Convert bcc addresses to the number of addresses in each row"
   ]
  },
  {
   "cell_type": "code",
   "execution_count": 569,
   "metadata": {},
   "outputs": [],
   "source": [
    "# Convert bcc addresses to the number of addresses in each row\n",
    "# dataset['bcc'] = dataset['bcc'].apply(lambda x: x.count(';') + 1 if pd.notna(x) else 0)\n",
    "# dataset.head()"
   ]
  },
  {
   "cell_type": "markdown",
   "metadata": {},
   "source": [
    "Convert the text in 'from' to lowercase"
   ]
  },
  {
   "cell_type": "code",
   "execution_count": 570,
   "metadata": {},
   "outputs": [],
   "source": [
    "# Convert the text in 'from' to lowercase\n",
    "# dataset['from'] = dataset['from'].str.lower()\n",
    "# dataset.head()"
   ]
  },
  {
   "cell_type": "markdown",
   "metadata": {},
   "source": [
    "Rearrange columns"
   ]
  },
  {
   "cell_type": "code",
   "execution_count": 571,
   "metadata": {},
   "outputs": [
    {
     "data": {
      "text/html": [
       "<div>\n",
       "<style scoped>\n",
       "    .dataframe tbody tr th:only-of-type {\n",
       "        vertical-align: middle;\n",
       "    }\n",
       "\n",
       "    .dataframe tbody tr th {\n",
       "        vertical-align: top;\n",
       "    }\n",
       "\n",
       "    .dataframe thead th {\n",
       "        text-align: right;\n",
       "    }\n",
       "</style>\n",
       "<table border=\"1\" class=\"dataframe\">\n",
       "  <thead>\n",
       "    <tr style=\"text-align: right;\">\n",
       "      <th></th>\n",
       "      <th>id</th>\n",
       "      <th>pc</th>\n",
       "      <th>user</th>\n",
       "      <th>date</th>\n",
       "      <th>time</th>\n",
       "      <th>content</th>\n",
       "    </tr>\n",
       "  </thead>\n",
       "  <tbody>\n",
       "    <tr>\n",
       "      <th>0</th>\n",
       "      <td>{F3E2-X3MV05YQ-3516SZDT}</td>\n",
       "      <td>PC-5849</td>\n",
       "      <td>SDH2394</td>\n",
       "      <td>01/02/2010</td>\n",
       "      <td>07:19:41</td>\n",
       "      <td>D0-CF-11-E0-A1-B1-1A-E1 Ernesztin's brother, L...</td>\n",
       "    </tr>\n",
       "    <tr>\n",
       "      <th>1</th>\n",
       "      <td>{I6N1-Z7VL92UY-8715ESKQ}</td>\n",
       "      <td>PC-5849</td>\n",
       "      <td>SDH2394</td>\n",
       "      <td>01/02/2010</td>\n",
       "      <td>07:21:30</td>\n",
       "      <td>25-50-44-46-2D ---- Bengali As do many other T...</td>\n",
       "    </tr>\n",
       "    <tr>\n",
       "      <th>2</th>\n",
       "      <td>{G4X5-J7MH70FV-8936QVSB}</td>\n",
       "      <td>PC-5849</td>\n",
       "      <td>SDH2394</td>\n",
       "      <td>01/02/2010</td>\n",
       "      <td>07:22:11</td>\n",
       "      <td>D0-CF-11-E0-A1-B1-1A-E1 Ernesztin's brother, L...</td>\n",
       "    </tr>\n",
       "    <tr>\n",
       "      <th>3</th>\n",
       "      <td>{M2M7-Z5ST21EU-6704NSKO}</td>\n",
       "      <td>PC-5849</td>\n",
       "      <td>SDH2394</td>\n",
       "      <td>01/02/2010</td>\n",
       "      <td>07:24:06</td>\n",
       "      <td>D0-CF-11-E0-A1-B1-1A-E1 After the death of his...</td>\n",
       "    </tr>\n",
       "    <tr>\n",
       "      <th>4</th>\n",
       "      <td>{R0A9-O9XB25PE-9236MALV}</td>\n",
       "      <td>PC-5849</td>\n",
       "      <td>SDH2394</td>\n",
       "      <td>01/02/2010</td>\n",
       "      <td>07:24:45</td>\n",
       "      <td>25-50-44-46-2D Although he restored some of th...</td>\n",
       "    </tr>\n",
       "  </tbody>\n",
       "</table>\n",
       "</div>"
      ],
      "text/plain": [
       "                         id       pc     user        date      time  \\\n",
       "0  {F3E2-X3MV05YQ-3516SZDT}  PC-5849  SDH2394  01/02/2010  07:19:41   \n",
       "1  {I6N1-Z7VL92UY-8715ESKQ}  PC-5849  SDH2394  01/02/2010  07:21:30   \n",
       "2  {G4X5-J7MH70FV-8936QVSB}  PC-5849  SDH2394  01/02/2010  07:22:11   \n",
       "3  {M2M7-Z5ST21EU-6704NSKO}  PC-5849  SDH2394  01/02/2010  07:24:06   \n",
       "4  {R0A9-O9XB25PE-9236MALV}  PC-5849  SDH2394  01/02/2010  07:24:45   \n",
       "\n",
       "                                             content  \n",
       "0  D0-CF-11-E0-A1-B1-1A-E1 Ernesztin's brother, L...  \n",
       "1  25-50-44-46-2D ---- Bengali As do many other T...  \n",
       "2  D0-CF-11-E0-A1-B1-1A-E1 Ernesztin's brother, L...  \n",
       "3  D0-CF-11-E0-A1-B1-1A-E1 After the death of his...  \n",
       "4  25-50-44-46-2D Although he restored some of th...  "
      ]
     },
     "execution_count": 571,
     "metadata": {},
     "output_type": "execute_result"
    }
   ],
   "source": [
    "# Rearrange columns\n",
    "dataset = dataset[['id', 'pc', 'user', 'date', 'time', 'content']]\n",
    "#dataset = dataset[['id', 'pc', 'user', 'date', 'time', 'from', 'to', 'cc', 'bcc', 'size', 'attachments', 'content']]\n",
    "dataset.head()"
   ]
  },
  {
   "cell_type": "markdown",
   "metadata": {},
   "source": [
    "<h1>Preprocessing</h1>"
   ]
  },
  {
   "cell_type": "markdown",
   "metadata": {},
   "source": [
    "convert date and time to numerical data for the standardization and normalization process."
   ]
  },
  {
   "cell_type": "code",
   "execution_count": 572,
   "metadata": {},
   "outputs": [],
   "source": [
    "# Remove '/' from the 'date'\n",
    "dataset['date'] = dataset['date'].str.replace('/', '')\n",
    "# dataset.head()"
   ]
  },
  {
   "cell_type": "markdown",
   "metadata": {},
   "source": [
    "Remove ':' from the 'time'"
   ]
  },
  {
   "cell_type": "code",
   "execution_count": 573,
   "metadata": {},
   "outputs": [],
   "source": [
    "# Remove ':' from the 'time'\n",
    "dataset['time'] = dataset['time'].str.replace(':', '')\n",
    "# dataset.head()"
   ]
  },
  {
   "cell_type": "markdown",
   "metadata": {},
   "source": [
    "Converting the PC- column to niumeric by removing the PC- string and keeping the PC value only."
   ]
  },
  {
   "cell_type": "code",
   "execution_count": 574,
   "metadata": {},
   "outputs": [],
   "source": [
    "# Remove the \"PC-\" prefix\n",
    "dataset['pc'] = dataset['pc'].str.replace('PC-', '')\n",
    "# dataset.head()"
   ]
  },
  {
   "cell_type": "markdown",
   "metadata": {},
   "source": [
    "Rearrange columns"
   ]
  },
  {
   "cell_type": "code",
   "execution_count": 575,
   "metadata": {},
   "outputs": [],
   "source": [
    "# Rearrange columns\n",
    "# dataset = dataset[['id', 'user', 'from', 'pc','date', 'time', 'to', 'cc', 'bcc', 'size', 'attachments', 'content']]\n",
    "# dataset.head()"
   ]
  },
  {
   "cell_type": "markdown",
   "metadata": {},
   "source": [
    "Feature Engineering"
   ]
  },
  {
   "cell_type": "code",
   "execution_count": 576,
   "metadata": {},
   "outputs": [],
   "source": [
    "# Character Count\n",
    "dataset['char_count'] = dataset['content'].apply(len)\n",
    "\n",
    "# Word Count\n",
    "dataset['word_count'] = dataset['content'].apply(lambda x: len(x.split()))\n",
    "\n",
    "# Average Word Length\n",
    "dataset['avg_word_length'] = dataset['content'].apply(lambda x: sum(len(word) for word in x.split()) / len(x.split()) if len(x.split()) > 0 else 0)\n",
    "\n",
    "# Counting the number of sentences\n",
    "dataset['sentence_count'] = dataset['content'].apply(lambda x: len(sent_tokenize(x)))"
   ]
  },
  {
   "cell_type": "code",
   "execution_count": 577,
   "metadata": {},
   "outputs": [
    {
     "data": {
      "text/html": [
       "<div>\n",
       "<style scoped>\n",
       "    .dataframe tbody tr th:only-of-type {\n",
       "        vertical-align: middle;\n",
       "    }\n",
       "\n",
       "    .dataframe tbody tr th {\n",
       "        vertical-align: top;\n",
       "    }\n",
       "\n",
       "    .dataframe thead th {\n",
       "        text-align: right;\n",
       "    }\n",
       "</style>\n",
       "<table border=\"1\" class=\"dataframe\">\n",
       "  <thead>\n",
       "    <tr style=\"text-align: right;\">\n",
       "      <th></th>\n",
       "      <th>id</th>\n",
       "      <th>user</th>\n",
       "      <th>pc</th>\n",
       "      <th>date</th>\n",
       "      <th>time</th>\n",
       "      <th>char_count</th>\n",
       "      <th>word_count</th>\n",
       "      <th>avg_word_length</th>\n",
       "      <th>sentence_count</th>\n",
       "      <th>content</th>\n",
       "    </tr>\n",
       "  </thead>\n",
       "  <tbody>\n",
       "    <tr>\n",
       "      <th>0</th>\n",
       "      <td>{F3E2-X3MV05YQ-3516SZDT}</td>\n",
       "      <td>SDH2394</td>\n",
       "      <td>5849</td>\n",
       "      <td>01022010</td>\n",
       "      <td>071941</td>\n",
       "      <td>310</td>\n",
       "      <td>47</td>\n",
       "      <td>5.617021</td>\n",
       "      <td>3</td>\n",
       "      <td>D0-CF-11-E0-A1-B1-1A-E1 Ernesztin's brother, L...</td>\n",
       "    </tr>\n",
       "    <tr>\n",
       "      <th>1</th>\n",
       "      <td>{I6N1-Z7VL92UY-8715ESKQ}</td>\n",
       "      <td>SDH2394</td>\n",
       "      <td>5849</td>\n",
       "      <td>01022010</td>\n",
       "      <td>072130</td>\n",
       "      <td>470</td>\n",
       "      <td>71</td>\n",
       "      <td>5.633803</td>\n",
       "      <td>4</td>\n",
       "      <td>25-50-44-46-2D ---- Bengali As do many other T...</td>\n",
       "    </tr>\n",
       "    <tr>\n",
       "      <th>2</th>\n",
       "      <td>{G4X5-J7MH70FV-8936QVSB}</td>\n",
       "      <td>SDH2394</td>\n",
       "      <td>5849</td>\n",
       "      <td>01022010</td>\n",
       "      <td>072211</td>\n",
       "      <td>310</td>\n",
       "      <td>47</td>\n",
       "      <td>5.617021</td>\n",
       "      <td>3</td>\n",
       "      <td>D0-CF-11-E0-A1-B1-1A-E1 Ernesztin's brother, L...</td>\n",
       "    </tr>\n",
       "    <tr>\n",
       "      <th>3</th>\n",
       "      <td>{M2M7-Z5ST21EU-6704NSKO}</td>\n",
       "      <td>SDH2394</td>\n",
       "      <td>5849</td>\n",
       "      <td>01022010</td>\n",
       "      <td>072406</td>\n",
       "      <td>460</td>\n",
       "      <td>73</td>\n",
       "      <td>5.315068</td>\n",
       "      <td>4</td>\n",
       "      <td>D0-CF-11-E0-A1-B1-1A-E1 After the death of his...</td>\n",
       "    </tr>\n",
       "    <tr>\n",
       "      <th>4</th>\n",
       "      <td>{R0A9-O9XB25PE-9236MALV}</td>\n",
       "      <td>SDH2394</td>\n",
       "      <td>5849</td>\n",
       "      <td>01022010</td>\n",
       "      <td>072445</td>\n",
       "      <td>554</td>\n",
       "      <td>96</td>\n",
       "      <td>4.781250</td>\n",
       "      <td>3</td>\n",
       "      <td>25-50-44-46-2D Although he restored some of th...</td>\n",
       "    </tr>\n",
       "  </tbody>\n",
       "</table>\n",
       "</div>"
      ],
      "text/plain": [
       "                         id     user    pc      date    time  char_count  \\\n",
       "0  {F3E2-X3MV05YQ-3516SZDT}  SDH2394  5849  01022010  071941         310   \n",
       "1  {I6N1-Z7VL92UY-8715ESKQ}  SDH2394  5849  01022010  072130         470   \n",
       "2  {G4X5-J7MH70FV-8936QVSB}  SDH2394  5849  01022010  072211         310   \n",
       "3  {M2M7-Z5ST21EU-6704NSKO}  SDH2394  5849  01022010  072406         460   \n",
       "4  {R0A9-O9XB25PE-9236MALV}  SDH2394  5849  01022010  072445         554   \n",
       "\n",
       "   word_count  avg_word_length  sentence_count  \\\n",
       "0          47         5.617021               3   \n",
       "1          71         5.633803               4   \n",
       "2          47         5.617021               3   \n",
       "3          73         5.315068               4   \n",
       "4          96         4.781250               3   \n",
       "\n",
       "                                             content  \n",
       "0  D0-CF-11-E0-A1-B1-1A-E1 Ernesztin's brother, L...  \n",
       "1  25-50-44-46-2D ---- Bengali As do many other T...  \n",
       "2  D0-CF-11-E0-A1-B1-1A-E1 Ernesztin's brother, L...  \n",
       "3  D0-CF-11-E0-A1-B1-1A-E1 After the death of his...  \n",
       "4  25-50-44-46-2D Although he restored some of th...  "
      ]
     },
     "execution_count": 577,
     "metadata": {},
     "output_type": "execute_result"
    }
   ],
   "source": [
    "# Rearrange columns\n",
    "dataset = dataset[['id', 'user', 'pc','date', 'time', 'char_count', 'word_count', 'avg_word_length', 'sentence_count', 'content']]\n",
    "# dataset = dataset[['id', 'user', 'from', 'pc','date', 'time', 'to', 'cc', 'bcc', 'size', 'attachments', 'char_count', 'word_count', 'avg_word_length', 'sentence_count', 'content']]\n",
    "dataset.head()"
   ]
  },
  {
   "cell_type": "markdown",
   "metadata": {},
   "source": [
    "<h5>Standardization</h5>"
   ]
  },
  {
   "cell_type": "markdown",
   "metadata": {},
   "source": [
    "Before standardizing the data, we have to convert the pc, date and time varialbles to type int64"
   ]
  },
  {
   "cell_type": "code",
   "execution_count": 578,
   "metadata": {},
   "outputs": [],
   "source": [
    "# Convert column 'pc', 'date' and time to int64\n",
    "dataset['pc'] = dataset['pc'].astype('int64')\n",
    "\n",
    "dataset['date'] = dataset['date'].astype('int64')\n",
    "\n",
    "dataset['time'] = dataset['time'].astype('int64')\n",
    "# dataset.head()"
   ]
  },
  {
   "cell_type": "markdown",
   "metadata": {},
   "source": [
    "Identify and Standardize numeric columns"
   ]
  },
  {
   "cell_type": "code",
   "execution_count": 579,
   "metadata": {},
   "outputs": [],
   "source": [
    "# Identify numeric columns\n",
    "numeric_columns = dataset.select_dtypes(include=['float64', 'int64']).columns\n",
    "\n",
    "# Standardize numeric columns\n",
    "scaler = StandardScaler()\n",
    "dataset[numeric_columns] = scaler.fit_transform(dataset[numeric_columns])\n",
    "# dataset.head()"
   ]
  },
  {
   "cell_type": "markdown",
   "metadata": {},
   "source": [
    "<h1>Identify numerical anomalies</h1>"
   ]
  },
  {
   "cell_type": "markdown",
   "metadata": {},
   "source": [
    "We calculate the z-scores, identify whether there are anomalies or not with a threshold of 2. We then extract the anomaloes and separate the two datasets into on contaning anomalies and one without."
   ]
  },
  {
   "cell_type": "code",
   "execution_count": 580,
   "metadata": {},
   "outputs": [
    {
     "name": "stdout",
     "output_type": "stream",
     "text": [
      "Normal Dataset:\n",
      "                            id     user        pc      date      time  \\\n",
      "580   {V5D0-Z4RQ40FS-7270SPLO}  SDH2394  0.339666 -1.476884 -1.473139   \n",
      "581   {T6S8-T6IF21DT-3070ZYOD}  SDH2394  0.339666 -1.476884 -1.253248   \n",
      "582   {J9A6-L7XD79XT-2003XAWY}  CJM0273 -0.480948 -1.476884 -1.250361   \n",
      "583   {G9T1-R9EE55ZO-3512SUWW}  TWM2199  1.712072 -1.476884 -1.250165   \n",
      "584   {L0O3-H9NZ48ZF-6019RPKK}  ZRM0694  0.673364 -1.476884 -1.250099   \n",
      "...                        ...      ...       ...       ...       ...   \n",
      "9994  {G2A8-A3VZ14UV-5921PYZD}  QRJ1597  0.356575  1.128769  0.573774   \n",
      "9995  {F0T0-F2CG40QE-4009WLVI}  XPW2833 -0.054767  1.128769  0.573806   \n",
      "9996  {H2A6-M1HZ11SM-2065TRUR}  TBL2581  0.774474  1.128769  0.574069   \n",
      "9998  {Q9E7-W1DI12HL-1003IKZO}  DCM3596 -1.556235  1.128769  0.574758   \n",
      "9999  {U3L9-S5EV72FR-0127KODT}  MTP2675  0.322066  1.128769  0.576562   \n",
      "\n",
      "      char_count  word_count  avg_word_length  sentence_count  \\\n",
      "580     0.667211    0.695080        -0.226949        0.858718   \n",
      "581     0.533789    0.641502        -0.665163        0.059985   \n",
      "582     0.241121    0.186086         0.312737        0.858718   \n",
      "583    -0.753088   -0.671168        -0.729909       -0.738748   \n",
      "584     1.015830    0.882604         0.591960        0.858718   \n",
      "...          ...         ...              ...             ...   \n",
      "9994    0.391759    0.614713        -1.307503        1.657451   \n",
      "9995    0.103395    0.373610        -1.683636        0.059985   \n",
      "9996    0.929751    0.641502         1.510006        0.858718   \n",
      "9998   -0.425989   -0.430065         0.056272        0.059985   \n",
      "9999    0.155042    0.052140         0.669133        0.059985   \n",
      "\n",
      "                                                content  \n",
      "580   D0-CF-11-E0-A1-B1-1A-E1 He is comforted by one...  \n",
      "581   58-56-36-46 However, the administrative change...  \n",
      "582   4B-34-36-37 It would build from Cave Springs, ...  \n",
      "583   25-50-44-46-2D Motorists must choose between t...  \n",
      "584   25-50-44-46-2D The LP vinyl release was presse...  \n",
      "...                                                 ...  \n",
      "9994  45-37-4A-32 During the same period, the men of...  \n",
      "9995  50-4B-03-04-14 Promotional singles were releas...  \n",
      "9996  D0-CF-11-E0-A1-B1-1A-E1 Despite setbacks in tr...  \n",
      "9998  50-4B-03-04-14 Probable xenocrysts of quartz h...  \n",
      "9999  D0-CF-11-E0-A1-B1-1A-E1 The tollway authority ...  \n",
      "\n",
      "[7880 rows x 10 columns]\n",
      "\n",
      "Anomalous Dataset:\n",
      "                            id     user        pc      date      time  \\\n",
      "0     {F3E2-X3MV05YQ-3516SZDT}  SDH2394  0.339666 -2.779711 -1.521617   \n",
      "1     {I6N1-Z7VL92UY-8715ESKQ}  SDH2394  0.339666 -2.779711 -1.515418   \n",
      "2     {G4X5-J7MH70FV-8936QVSB}  SDH2394  0.339666 -2.779711 -1.512761   \n",
      "3     {M2M7-Z5ST21EU-6704NSKO}  SDH2394  0.339666 -2.779711 -1.506365   \n",
      "4     {R0A9-O9XB25PE-9236MALV}  SDH2394  0.339666 -2.779711 -1.505086   \n",
      "...                        ...      ...       ...       ...       ...   \n",
      "9982  {M2F0-D5MD23LI-4797PKDV}  ARV0704  1.096784  1.128769  0.566525   \n",
      "9984  {F9R3-A1QA36UA-9883OJXP}  ACF1806 -1.583842  1.128769  0.566787   \n",
      "9988  {G5U3-E7NM57SW-4206LMBO}  KMB3781  1.537458  1.128769  0.568165   \n",
      "9992  {Y5U8-F2MD33DS-2954HYTB}  LCP0344 -1.409573  1.128769  0.573511   \n",
      "9997  {J2H0-Z0IJ49TS-2816TZII}  DCM3596 -1.556235  1.128769  0.574758   \n",
      "\n",
      "      char_count  word_count  avg_word_length  sentence_count  \\\n",
      "0      -1.106011   -1.153373         0.808761       -0.738748   \n",
      "1      -0.417381   -0.510433         0.853992        0.059985   \n",
      "2      -1.106011   -1.153373         0.808761       -0.738748   \n",
      "3      -0.460420   -0.456855        -0.005098        0.059985   \n",
      "4      -0.055850    0.159297        -1.443909       -0.738748   \n",
      "...          ...         ...              ...             ...   \n",
      "9982   -2.414407   -2.385676        -0.854308       -2.336215   \n",
      "9984   -2.414407   -2.385676        -0.854308       -2.336215   \n",
      "9988   -2.414407   -2.385676        -0.854308       -2.336215   \n",
      "9992   -2.414407   -2.385676        -0.854308       -2.336215   \n",
      "9997   -2.414407   -2.385676        -0.854308       -2.336215   \n",
      "\n",
      "                                                content  \n",
      "0     D0-CF-11-E0-A1-B1-1A-E1 Ernesztin's brother, L...  \n",
      "1     25-50-44-46-2D ---- Bengali As do many other T...  \n",
      "2     D0-CF-11-E0-A1-B1-1A-E1 Ernesztin's brother, L...  \n",
      "3     D0-CF-11-E0-A1-B1-1A-E1 After the death of his...  \n",
      "4     25-50-44-46-2D Although he restored some of th...  \n",
      "...                                                 ...  \n",
      "9982                                             FF-D8   \n",
      "9984                                             FF-D8   \n",
      "9988                                             FF-D8   \n",
      "9992                                             FF-D8   \n",
      "9997                                             FF-D8   \n",
      "\n",
      "[2120 rows x 10 columns]\n"
     ]
    }
   ],
   "source": [
    "# Calculate Z-scores\n",
    "z_scores = stats.zscore(dataset.select_dtypes(include=['float64', 'int64']))\n",
    "\n",
    "# Get boolean DataFrame indicating the presence of anomalies (using a threshold of 2)\n",
    "anomalies_bool_df = pd.DataFrame(z_scores, columns=dataset.select_dtypes(include=['float64', 'int64']).columns, index=dataset.index)\n",
    "anomalies_bool_df = (anomalies_bool_df > 2) | (anomalies_bool_df < -2)\n",
    "\n",
    "# Extract anomalies\n",
    "anomalies = dataset[anomalies_bool_df.any(axis=1)]\n",
    "\n",
    "# Drop anomalies from the original dataset\n",
    "df_no_anomalies = dataset.drop(anomalies.index)\n",
    "\n",
    "# Display the datasets\n",
    "print(\"Normal Dataset:\")\n",
    "print(df_no_anomalies)\n",
    "print(\"\\nAnomalous Dataset:\")\n",
    "print(anomalies)"
   ]
  },
  {
   "cell_type": "markdown",
   "metadata": {},
   "source": [
    "Here we combine the two dataframes after adding the numeric_anomalies column. The column contains values, either 1 or 0 where 1 indicates that there are anomalies in the dataset and 0 indicates that there are no anomalies in the dataset."
   ]
  },
  {
   "cell_type": "code",
   "execution_count": 581,
   "metadata": {},
   "outputs": [],
   "source": [
    "df_no_anomalies['numeric_anomalies'] = 0\n",
    "anomalies['numeric_anomalies'] = 1\n",
    "# Combine dataframes vertically\n",
    "dataset = pd.concat([df_no_anomalies, anomalies])\n",
    "\n",
    "# Order by index\n",
    "dataset = dataset.sort_index()\n",
    "# dataset.head()"
   ]
  },
  {
   "cell_type": "markdown",
   "metadata": {},
   "source": [
    "<h1>Text Pre-processing</h1>"
   ]
  },
  {
   "cell_type": "markdown",
   "metadata": {},
   "source": [
    "Convert the text in 'content' to lowercase"
   ]
  },
  {
   "cell_type": "code",
   "execution_count": 582,
   "metadata": {},
   "outputs": [],
   "source": [
    "# Convert the text in 'content' to lowercase\n",
    "dataset['content'] = dataset['content'].str.lower()\n",
    "# dataset.head()"
   ]
  },
  {
   "cell_type": "markdown",
   "metadata": {},
   "source": [
    "Below is a function used to preprocess the email content in the 'content' column. We start by tokenizing the content of the email, removing stop words and then stemming the content using the python PorterStemmer() function."
   ]
  },
  {
   "cell_type": "code",
   "execution_count": 583,
   "metadata": {},
   "outputs": [],
   "source": [
    "def preprocess_email_content(email):\n",
    "    # Tokenization\n",
    "    tokens = word_tokenize(email)\n",
    "\n",
    "    # Removal of stop words\n",
    "    stop_words = set(stopwords.words('english'))\n",
    "    filtered_tokens = [token for token in tokens if token.lower() not in stop_words]\n",
    "\n",
    "    # Stemming\n",
    "    stemmer = PorterStemmer()\n",
    "    stemmed_tokens = [stemmer.stem(token) for token in filtered_tokens]\n",
    "\n",
    "    return ' '.join(stemmed_tokens)"
   ]
  },
  {
   "cell_type": "markdown",
   "metadata": {},
   "source": [
    "Apply preprocessing to the 'content' column"
   ]
  },
  {
   "cell_type": "code",
   "execution_count": 584,
   "metadata": {},
   "outputs": [],
   "source": [
    "# Apply preprocessing to the 'content' column\n",
    "dataset['content'] = dataset['content'].apply(preprocess_email_content)"
   ]
  },
  {
   "cell_type": "markdown",
   "metadata": {},
   "source": [
    "<h1>Detect Sentiment Anomalies</h1>"
   ]
  },
  {
   "cell_type": "code",
   "execution_count": 585,
   "metadata": {},
   "outputs": [
    {
     "data": {
      "image/png": "[encoded data removed]",
      "text/plain": [
       "<Figure size 640x480 with 1 Axes>"
      ]
     },
     "metadata": {},
     "output_type": "display_data"
    }
   ],
   "source": [
    "# Perform sentiment analysis and get polarity scores\n",
    "dataset['sentiment_score'] = dataset['content'].apply(lambda x: TextBlob(x).sentiment.polarity)\n",
    "\n",
    "# Detect anomalies using Isolation Forest\n",
    "clf = IsolationForest(contamination=0.2)\n",
    "dataset['sentiment_anomaly'] = clf.fit_predict(dataset[['sentiment_score']])\n",
    "\n",
    "# Create a color map based on the 'sentiment_anomaly' values\n",
    "colors = dataset['sentiment_anomaly'].apply(lambda x: 'red' if x == -1 else 'green')\n",
    "\n",
    "# Plot sentiment scores and anomalies\n",
    "plt.scatter(dataset.index, dataset['sentiment_score'], c=colors)\n",
    "plt.xlabel('Data Point Index')\n",
    "plt.ylabel('Sentiment Score')\n",
    "plt.title('Anomaly Detection in Sentiment Scores')\n",
    "plt.show()"
   ]
  },
  {
   "cell_type": "markdown",
   "metadata": {},
   "source": [
    "<h1>Feature Engineering</h1>"
   ]
  },
  {
   "cell_type": "markdown",
   "metadata": {},
   "source": [
    "Replace all occurrences of 1 with 0 in 'sentiment_anomaly' and then all occurrences of -1 with 1 in the same column."
   ]
  },
  {
   "cell_type": "code",
   "execution_count": 586,
   "metadata": {},
   "outputs": [],
   "source": [
    "# Replace all occurrences of 1 with 0 in 'sentiment_anomaly' and then all occurrences of -1 with 1 in the same column.\n",
    "dataset['sentiment_anomaly'] = dataset['sentiment_anomaly'].replace(1, 0)\n",
    "dataset['sentiment_anomaly'] = dataset['sentiment_anomaly'].replace(-1, 1)\n",
    "# dataset.head()"
   ]
  },
  {
   "cell_type": "markdown",
   "metadata": {},
   "source": [
    "Creating the 'target' value."
   ]
  },
  {
   "cell_type": "code",
   "execution_count": 587,
   "metadata": {},
   "outputs": [],
   "source": [
    "# Add the 'target' column\n",
    "dataset['target'] = dataset['numeric_anomalies'] + dataset['sentiment_anomaly']\n",
    "dataset.loc[dataset['target'] == 2, 'target'] = 1\n",
    "# dataset.head()"
   ]
  },
  {
   "cell_type": "markdown",
   "metadata": {},
   "source": [
    "Identifying and Standardizing new numeric columns."
   ]
  },
  {
   "cell_type": "code",
   "execution_count": 588,
   "metadata": {},
   "outputs": [],
   "source": [
    "# Identify numeric columns\n",
    "numeric_columns = ['numeric_anomalies', 'sentiment_score', 'sentiment_anomaly']\n",
    "\n",
    "# Standardize numeric columns\n",
    "scaler = StandardScaler()\n",
    "dataset[numeric_columns] = scaler.fit_transform(dataset[numeric_columns])\n",
    "# dataset.head()"
   ]
  },
  {
   "cell_type": "markdown",
   "metadata": {},
   "source": [
    "Rearrange columns"
   ]
  },
  {
   "cell_type": "code",
   "execution_count": 589,
   "metadata": {},
   "outputs": [
    {
     "data": {
      "text/html": [
       "<div>\n",
       "<style scoped>\n",
       "    .dataframe tbody tr th:only-of-type {\n",
       "        vertical-align: middle;\n",
       "    }\n",
       "\n",
       "    .dataframe tbody tr th {\n",
       "        vertical-align: top;\n",
       "    }\n",
       "\n",
       "    .dataframe thead th {\n",
       "        text-align: right;\n",
       "    }\n",
       "</style>\n",
       "<table border=\"1\" class=\"dataframe\">\n",
       "  <thead>\n",
       "    <tr style=\"text-align: right;\">\n",
       "      <th></th>\n",
       "      <th>id</th>\n",
       "      <th>user</th>\n",
       "      <th>pc</th>\n",
       "      <th>date</th>\n",
       "      <th>time</th>\n",
       "      <th>char_count</th>\n",
       "      <th>word_count</th>\n",
       "      <th>avg_word_length</th>\n",
       "      <th>sentence_count</th>\n",
       "      <th>sentiment_score</th>\n",
       "      <th>numeric_anomalies</th>\n",
       "      <th>sentiment_anomaly</th>\n",
       "      <th>content</th>\n",
       "      <th>target</th>\n",
       "    </tr>\n",
       "  </thead>\n",
       "  <tbody>\n",
       "    <tr>\n",
       "      <th>0</th>\n",
       "      <td>{F3E2-X3MV05YQ-3516SZDT}</td>\n",
       "      <td>SDH2394</td>\n",
       "      <td>0.339666</td>\n",
       "      <td>-2.779711</td>\n",
       "      <td>-1.521617</td>\n",
       "      <td>-1.106011</td>\n",
       "      <td>-1.153373</td>\n",
       "      <td>0.808761</td>\n",
       "      <td>-0.738748</td>\n",
       "      <td>0.092624</td>\n",
       "      <td>1.927947</td>\n",
       "      <td>-0.5</td>\n",
       "      <td>d0-cf-11-e0-a1-b1-1a-e1 ernesztin 's brother ,...</td>\n",
       "      <td>1</td>\n",
       "    </tr>\n",
       "    <tr>\n",
       "      <th>1</th>\n",
       "      <td>{I6N1-Z7VL92UY-8715ESKQ}</td>\n",
       "      <td>SDH2394</td>\n",
       "      <td>0.339666</td>\n",
       "      <td>-2.779711</td>\n",
       "      <td>-1.515418</td>\n",
       "      <td>-0.417381</td>\n",
       "      <td>-0.510433</td>\n",
       "      <td>0.853992</td>\n",
       "      <td>0.059985</td>\n",
       "      <td>-0.958383</td>\n",
       "      <td>1.927947</td>\n",
       "      <td>2.0</td>\n",
       "      <td>25-50-44-46-2d -- -- bengali mani tagor stori ...</td>\n",
       "      <td>1</td>\n",
       "    </tr>\n",
       "    <tr>\n",
       "      <th>2</th>\n",
       "      <td>{G4X5-J7MH70FV-8936QVSB}</td>\n",
       "      <td>SDH2394</td>\n",
       "      <td>0.339666</td>\n",
       "      <td>-2.779711</td>\n",
       "      <td>-1.512761</td>\n",
       "      <td>-1.106011</td>\n",
       "      <td>-1.153373</td>\n",
       "      <td>0.808761</td>\n",
       "      <td>-0.738748</td>\n",
       "      <td>0.092624</td>\n",
       "      <td>1.927947</td>\n",
       "      <td>-0.5</td>\n",
       "      <td>d0-cf-11-e0-a1-b1-1a-e1 ernesztin 's brother ,...</td>\n",
       "      <td>1</td>\n",
       "    </tr>\n",
       "    <tr>\n",
       "      <th>3</th>\n",
       "      <td>{M2M7-Z5ST21EU-6704NSKO}</td>\n",
       "      <td>SDH2394</td>\n",
       "      <td>0.339666</td>\n",
       "      <td>-2.779711</td>\n",
       "      <td>-1.506365</td>\n",
       "      <td>-0.460420</td>\n",
       "      <td>-0.456855</td>\n",
       "      <td>-0.005098</td>\n",
       "      <td>0.059985</td>\n",
       "      <td>-1.203618</td>\n",
       "      <td>1.927947</td>\n",
       "      <td>2.0</td>\n",
       "      <td>d0-cf-11-e0-a1-b1-1a-e1 death uncl , nigel , e...</td>\n",
       "      <td>1</td>\n",
       "    </tr>\n",
       "    <tr>\n",
       "      <th>4</th>\n",
       "      <td>{R0A9-O9XB25PE-9236MALV}</td>\n",
       "      <td>SDH2394</td>\n",
       "      <td>0.339666</td>\n",
       "      <td>-2.779711</td>\n",
       "      <td>-1.505086</td>\n",
       "      <td>-0.055850</td>\n",
       "      <td>0.159297</td>\n",
       "      <td>-1.443909</td>\n",
       "      <td>-0.738748</td>\n",
       "      <td>1.984437</td>\n",
       "      <td>1.927947</td>\n",
       "      <td>2.0</td>\n",
       "      <td>25-50-44-46-2d although restor land taken monk...</td>\n",
       "      <td>1</td>\n",
       "    </tr>\n",
       "  </tbody>\n",
       "</table>\n",
       "</div>"
      ],
      "text/plain": [
       "                         id     user        pc      date      time  \\\n",
       "0  {F3E2-X3MV05YQ-3516SZDT}  SDH2394  0.339666 -2.779711 -1.521617   \n",
       "1  {I6N1-Z7VL92UY-8715ESKQ}  SDH2394  0.339666 -2.779711 -1.515418   \n",
       "2  {G4X5-J7MH70FV-8936QVSB}  SDH2394  0.339666 -2.779711 -1.512761   \n",
       "3  {M2M7-Z5ST21EU-6704NSKO}  SDH2394  0.339666 -2.779711 -1.506365   \n",
       "4  {R0A9-O9XB25PE-9236MALV}  SDH2394  0.339666 -2.779711 -1.505086   \n",
       "\n",
       "   char_count  word_count  avg_word_length  sentence_count  sentiment_score  \\\n",
       "0   -1.106011   -1.153373         0.808761       -0.738748         0.092624   \n",
       "1   -0.417381   -0.510433         0.853992        0.059985        -0.958383   \n",
       "2   -1.106011   -1.153373         0.808761       -0.738748         0.092624   \n",
       "3   -0.460420   -0.456855        -0.005098        0.059985        -1.203618   \n",
       "4   -0.055850    0.159297        -1.443909       -0.738748         1.984437   \n",
       "\n",
       "   numeric_anomalies  sentiment_anomaly  \\\n",
       "0           1.927947               -0.5   \n",
       "1           1.927947                2.0   \n",
       "2           1.927947               -0.5   \n",
       "3           1.927947                2.0   \n",
       "4           1.927947                2.0   \n",
       "\n",
       "                                             content  target  \n",
       "0  d0-cf-11-e0-a1-b1-1a-e1 ernesztin 's brother ,...       1  \n",
       "1  25-50-44-46-2d -- -- bengali mani tagor stori ...       1  \n",
       "2  d0-cf-11-e0-a1-b1-1a-e1 ernesztin 's brother ,...       1  \n",
       "3  d0-cf-11-e0-a1-b1-1a-e1 death uncl , nigel , e...       1  \n",
       "4  25-50-44-46-2d although restor land taken monk...       1  "
      ]
     },
     "execution_count": 589,
     "metadata": {},
     "output_type": "execute_result"
    }
   ],
   "source": [
    "# Rearrange columns\n",
    "dataset = dataset[['id', 'user', 'pc','date', 'time', 'char_count', 'word_count', 'avg_word_length', 'sentence_count', 'sentiment_score', 'numeric_anomalies', 'sentiment_anomaly','content', 'target']]\n",
    "# dataset = dataset[['id', 'user', 'from', 'pc','date', 'time', 'to', 'cc', 'bcc', 'size', 'attachments', 'char_count', 'word_count', 'avg_word_length', 'sentence_count', 'sentiment_score', 'numeric_anomalies', 'sentiment_anomaly','content', 'target']]\n",
    "dataset.head()"
   ]
  },
  {
   "cell_type": "markdown",
   "metadata": {},
   "source": [
    "<h1>Feature Selection</h1>"
   ]
  },
  {
   "cell_type": "markdown",
   "metadata": {},
   "source": [
    "Below is a heatmap of the feature correlation. The heatmap below is used to visualize which of the feature in our dataset influence the target variable the most."
   ]
  },
  {
   "cell_type": "code",
   "execution_count": 590,
   "metadata": {},
   "outputs": [
    {
     "data": {
      "image/png": "[encoded data removed]",
      "text/plain": [
       "<Figure size 1000x800 with 2 Axes>"
      ]
     },
     "metadata": {},
     "output_type": "display_data"
    }
   ],
   "source": [
    "# Compute the correlation matrix\n",
    "corr = dataset.corr()\n",
    "# Generate a heatmap\n",
    "plt.figure(figsize=(10, 8))\n",
    "sns.heatmap(corr, annot=True, cmap='coolwarm', vmin=-1, vmax=1)\n",
    "\n",
    "# Display the heatmap\n",
    "plt.title(\"Feature Correlation Heatmap\")\n",
    "plt.show()"
   ]
  },
  {
   "cell_type": "markdown",
   "metadata": {},
   "source": [
    "Below are some Feature Selection methods."
   ]
  },
  {
   "cell_type": "markdown",
   "metadata": {},
   "source": [
    "- Filter Method: We identify features that are highly correlated (here I used a threshold of 0.8) and remove them since they might carry redundant information.\n",
    "\n",
    "- Wrapper Method: Using RFE, we wrap around a model (in this case, LinearRegression) to rank features based on their importance in predicting the target. Here, we're selecting 5 top features.\n",
    "\n",
    "- Embedded Method: We utilize a RandomForest model to compute feature importances and select features that have an importance score above the mean.\n",
    "\n",
    "Each method will likely produce a different subset of features. The best set often depends on the problem and the model you're planning to use. Testing the performance of your machine learning model with each subset will provide more insights into which features to finally select."
   ]
  },
  {
   "cell_type": "code",
   "execution_count": 591,
   "metadata": {},
   "outputs": [
    {
     "name": "stdout",
     "output_type": "stream",
     "text": [
      "Features selected by Filter method: ['pc', 'date', 'time', 'numeric_anomalies']\n",
      "Features selected by Wrapper method: ['char_count', 'word_count', 'avg_word_length', 'numeric_anomalies', 'sentiment_anomaly']\n",
      "Features selected by Embedded method: ['numeric_anomalies', 'sentiment_anomaly']\n"
     ]
    }
   ],
   "source": [
    "dataset = dataset[['pc','date', 'time', 'char_count', 'word_count', 'avg_word_length', 'sentence_count', 'sentiment_score', 'numeric_anomalies', 'sentiment_anomaly', 'target']]\n",
    "# dataset = dataset[['pc','date', 'time', 'to', 'cc', 'bcc', 'size', 'attachments', 'char_count', 'word_count', 'avg_word_length', 'sentence_count', 'sentiment_score', 'numeric_anomalies', 'sentiment_anomaly', 'target']]\n",
    "X = dataset.drop('target', axis=1)  # Features\n",
    "y = dataset['target']  # Target variable (0 for normal, 1 for insider threat)\n",
    "feature_names = X.columns  # This is the corrected line\n",
    "\n",
    "# 1. Filter Method\n",
    "# Removing features with high correlation\n",
    "correlation_matrix = pd.DataFrame(X, columns=feature_names).abs()\n",
    "upper_triangle = correlation_matrix.where(np.triu(np.ones(correlation_matrix.shape), k=1).astype(bool))\n",
    "features_to_drop = [column for column in upper_triangle.columns if any(upper_triangle[column] < 0.8)]\n",
    "X_filtered = pd.DataFrame(X, columns=feature_names).drop(features_to_drop, axis=1)\n",
    "\n",
    "# 2. Wrapper Method\n",
    "# Recursive Feature Elimination\n",
    "estimator = LinearRegression()\n",
    "selector = RFE(estimator=estimator, n_features_to_select=5, step=1)\n",
    "selector = selector.fit(X, y)\n",
    "selected_features_wrapper = np.array(feature_names)[selector.support_]\n",
    "\n",
    "# 3. Embedded Method\n",
    "# Feature importances from Random Forest\n",
    "model = RandomForestRegressor(n_estimators=100)\n",
    "model.fit(X, y)\n",
    "importances = model.feature_importances_\n",
    "selected_features_embedded = np.array(feature_names)[importances > np.mean(importances)]\n",
    "\n",
    "print(\"Features selected by Filter method:\", list(X_filtered.columns))\n",
    "print(\"Features selected by Wrapper method:\", list(selected_features_wrapper))\n",
    "print(\"Features selected by Embedded method:\", list(selected_features_embedded))"
   ]
  },
  {
   "cell_type": "markdown",
   "metadata": {},
   "source": [
    "New dataset of selected Features"
   ]
  },
  {
   "cell_type": "code",
   "execution_count": 592,
   "metadata": {},
   "outputs": [],
   "source": [
    "#dataset = dataset[['pc', 'date', 'time', 'char_count', 'word_count', 'avg_word_length', 'numeric_anomalies', 'sentiment_score', 'sentiment_anomaly','target']]\n",
    "\n",
    "dataset = dataset[['pc', 'date', 'time', 'avg_word_length', 'target']]\n",
    "# dataset = dataset[['pc', 'date', 'time', 'avg_word_length', 'numeric_anomalies', 'sentiment_anomaly', 'target']]\n",
    "# dataset = dataset[['pc', 'date', 'time', 'char_count', 'word_count', 'avg_word_length', 'numeric_anomalies', 'sentiment_anomaly', 'target']]\n",
    "# dataset = dataset[['pc', 'date', 'time', 'char_count', 'word_count','sentence_count', 'numeric_anomalies', 'sentiment_anomaly', 'target']]\n",
    "# X = dataset.drop('target', axis=1)  # Features\n",
    "# y = dataset['target']  # Target variable (0 for normal, 1 for insider threat)"
   ]
  },
  {
   "cell_type": "markdown",
   "metadata": {},
   "source": [
    "Below is the updated heatmap of features in correlation to the target value."
   ]
  },
  {
   "cell_type": "code",
   "execution_count": 593,
   "metadata": {},
   "outputs": [
    {
     "data": {
      "image/png": "[encoded data removed]",
      "text/plain": [
       "<Figure size 1000x800 with 2 Axes>"
      ]
     },
     "metadata": {},
     "output_type": "display_data"
    }
   ],
   "source": [
    "# Compute the correlation matrix\n",
    "corr = dataset.corr()\n",
    "\n",
    "# Generate a heatmap\n",
    "plt.figure(figsize=(10, 8))\n",
    "sns.heatmap(corr, annot=True, cmap='coolwarm', vmin=-1, vmax=1)\n",
    "\n",
    "# Display the heatmap\n",
    "plt.title(\"Feature Correlation Heatmap\")\n",
    "plt.show()"
   ]
  },
  {
   "cell_type": "markdown",
   "metadata": {},
   "source": [
    "<h1>Model training and testing</h1>"
   ]
  },
  {
   "cell_type": "markdown",
   "metadata": {},
   "source": [
    "Train Test Split"
   ]
  },
  {
   "cell_type": "code",
   "execution_count": 594,
   "metadata": {},
   "outputs": [],
   "source": [
    "# Split the data into training and testing sets\n",
    "X = dataset.drop('target', axis=1)  # Features\n",
    "y = dataset['target']  # Target variable (0 for normal, 1 for insider threat)\n",
    "\n",
    "X_train, X_test, y_train, y_test = train_test_split(X, y, test_size=0.3, random_state=42) # split ration 30%"
   ]
  },
  {
   "cell_type": "markdown",
   "metadata": {},
   "source": [
    "Random Forest"
   ]
  },
  {
   "cell_type": "code",
   "execution_count": 595,
   "metadata": {},
   "outputs": [
    {
     "name": "stdout",
     "output_type": "stream",
     "text": [
      "Accuracy: 0.83\n",
      "              precision    recall  f1-score   support\n",
      "\n",
      "           0       0.81      0.95      0.88      1832\n",
      "           1       0.89      0.65      0.76      1168\n",
      "\n",
      "    accuracy                           0.83      3000\n",
      "   macro avg       0.85      0.80      0.82      3000\n",
      "weighted avg       0.84      0.83      0.83      3000\n",
      "\n"
     ]
    }
   ],
   "source": [
    "# Create and train a Random Forest classifier\n",
    "clf = RandomForestClassifier(n_estimators=100, random_state=42)\n",
    "clf.fit(X_train, y_train)\n",
    "\n",
    "# Make predictions on the test set\n",
    "y_pred = clf.predict(X_test)\n",
    "\n",
    "# Evaluate the model\n",
    "accuracy = accuracy_score(y_test, y_pred)\n",
    "print(f'Accuracy: {accuracy:.2f}')\n",
    "\n",
    "# Print a classification report for more detailed evaluation\n",
    "print(classification_report(y_test, y_pred))\n"
   ]
  },
  {
   "cell_type": "markdown",
   "metadata": {},
   "source": [
    "SVM Classifier"
   ]
  },
  {
   "cell_type": "code",
   "execution_count": 596,
   "metadata": {},
   "outputs": [
    {
     "name": "stdout",
     "output_type": "stream",
     "text": [
      "SVM Accuracy: 0.6106666666666667\n",
      "SVM Recall: 0.0\n",
      "SVM F1-score: 0.0\n"
     ]
    }
   ],
   "source": [
    "# Create an SVM classifier without class weights\n",
    "svm_classifier = SVC(kernel='linear', C=1.0, random_state=42)\n",
    "\n",
    "# Train the model\n",
    "svm_classifier.fit(X_train, y_train)\n",
    "\n",
    "# Make predictions\n",
    "y_pred = svm_classifier.predict(X_test)\n",
    "\n",
    "# Calculate accuracy, recall, and F1-score\n",
    "accuracy = accuracy_score(y_test, y_pred)\n",
    "recall = recall_score(y_test, y_pred)  # Removed average='weighted'\n",
    "f1 = f1_score(y_test, y_pred)          # Removed average='weighted'\n",
    "\n",
    "# Print the evaluation metrics\n",
    "print(\"SVM Accuracy:\", accuracy)\n",
    "print(\"SVM Recall:\", recall)\n",
    "print(\"SVM F1-score:\", f1)"
   ]
  },
  {
   "cell_type": "markdown",
   "metadata": {},
   "source": [
    "SVM for multiclass target values"
   ]
  },
  {
   "cell_type": "code",
   "execution_count": 597,
   "metadata": {},
   "outputs": [
    {
     "name": "stdout",
     "output_type": "stream",
     "text": [
      "SVM Accuracy: 0.6106666666666667\n",
      "SVM Recall per class: [1. 0.]\n",
      "SVM F1-score per class: [0.75827815 0.        ]\n"
     ]
    }
   ],
   "source": [
    "# Create an SVM classifier without class weights\n",
    "svm_classifier = SVC(kernel='linear', C=1.0, random_state=42)\n",
    "\n",
    "# Train the model\n",
    "svm_classifier.fit(X_train, y_train)\n",
    "\n",
    "# Make predictions\n",
    "y_pred = svm_classifier.predict(X_test)\n",
    "\n",
    "# Calculate accuracy, recall, and F1-score\n",
    "accuracy = accuracy_score(y_test, y_pred)\n",
    "recall_per_class = recall_score(y_test, y_pred, average=None)  # Changed to average=None\n",
    "f1_per_class = f1_score(y_test, y_pred, average=None)          # Changed to average=None\n",
    "\n",
    "# Print the evaluation metrics\n",
    "print(\"SVM Accuracy:\", accuracy)\n",
    "print(\"SVM Recall per class:\", recall_per_class)\n",
    "print(\"SVM F1-score per class:\", f1_per_class)"
   ]
  },
  {
   "cell_type": "markdown",
   "metadata": {},
   "source": [
    "Logistic Regression"
   ]
  },
  {
   "cell_type": "code",
   "execution_count": 598,
   "metadata": {},
   "outputs": [
    {
     "name": "stdout",
     "output_type": "stream",
     "text": [
      "Logistic Regression Accuracy: 0.6673333333333333\n",
      "Logistic Regression Recall per class: [0.93613537 0.24571918]\n",
      "Logistic Regression F1-score per class: [0.77461608 0.36513995]\n"
     ]
    }
   ],
   "source": [
    "# Create a Logistic Regression classifier without class weights\n",
    "logistic_classifier = LogisticRegression(random_state=42)\n",
    "\n",
    "# Train the model\n",
    "logistic_classifier.fit(X_train, y_train)\n",
    "\n",
    "# Make predictions\n",
    "y_pred = logistic_classifier.predict(X_test)\n",
    "\n",
    "# Calculate accuracy, recall, and F1-score\n",
    "accuracy = accuracy_score(y_test, y_pred)\n",
    "recall_per_class = recall_score(y_test, y_pred, average=None)  # Removed average='weighted' and set to None\n",
    "f1_per_class = f1_score(y_test, y_pred, average=None)          # Removed average='weighted' and set to None\n",
    "\n",
    "# Print the evaluation metrics\n",
    "print(\"Logistic Regression Accuracy:\", accuracy)\n",
    "print(\"Logistic Regression Recall per class:\", recall_per_class)\n",
    "print(\"Logistic Regression F1-score per class:\", f1_per_class)"
   ]
  },
  {
   "cell_type": "markdown",
   "metadata": {},
   "source": [
    "Decision Tree"
   ]
  },
  {
   "cell_type": "code",
   "execution_count": 599,
   "metadata": {},
   "outputs": [
    {
     "name": "stdout",
     "output_type": "stream",
     "text": [
      "Decision Tree Accuracy: 0.7726666666666666\n",
      "Decision Tree Recall per class: [0.81823144 0.70119863]\n",
      "Decision Tree F1-score per class: [0.81467391 0.70603448]\n"
     ]
    }
   ],
   "source": [
    "# Create a Decision Tree classifier without class weights\n",
    "tree_classifier = DecisionTreeClassifier(random_state=42)\n",
    "\n",
    "# Train the model\n",
    "tree_classifier.fit(X_train, y_train)\n",
    "\n",
    "# Make predictions\n",
    "y_pred = tree_classifier.predict(X_test)\n",
    "\n",
    "# Calculate accuracy, recall, and F1-score\n",
    "accuracy = accuracy_score(y_test, y_pred)\n",
    "recall_per_class = recall_score(y_test, y_pred, average=None)  # Removed average='weighted' and set to None\n",
    "f1_per_class = f1_score(y_test, y_pred, average=None)          # Removed average='weighted' and set to None\n",
    "\n",
    "# Print the evaluation metrics\n",
    "print(\"Decision Tree Accuracy:\", accuracy)\n",
    "print(\"Decision Tree Recall per class:\", recall_per_class)\n",
    "print(\"Decision Tree F1-score per class:\", f1_per_class)"
   ]
  },
  {
   "cell_type": "markdown",
   "metadata": {},
   "source": [
    "Ensemble model made up of a Random Forest Classifier, SVM Classifier, Logistic Regression Model and Decision Tree Classifier."
   ]
  },
  {
   "cell_type": "code",
   "execution_count": 600,
   "metadata": {},
   "outputs": [
    {
     "name": "stdout",
     "output_type": "stream",
     "text": [
      "Ensemble Accuracy: 0.803\n",
      "Ensemble Recall per class: [0.8941048  0.66010274]\n",
      "Ensemble F1-score per class: [0.84716835 0.72292546]\n"
     ]
    }
   ],
   "source": [
    "# Create individual classifiers without class weights\n",
    "random_forest = RandomForestClassifier(random_state=42)\n",
    "svc_classifier = SVC(kernel='linear', C=1.0, probability=True, random_state=42)\n",
    "logistic_classifier = LogisticRegression(random_state=42)\n",
    "tree_classifier = DecisionTreeClassifier(random_state=42)\n",
    "\n",
    "# Create an ensemble classifier using voting\n",
    "ensemble_classifier = VotingClassifier(estimators=[\n",
    "    ('rf', random_forest),\n",
    "    ('svc', svc_classifier),\n",
    "    ('logistic', logistic_classifier),\n",
    "    ('tree', tree_classifier)\n",
    "], voting='soft')  # Use 'soft' voting for probability-based voting\n",
    "\n",
    "# Train the ensemble model\n",
    "ensemble_classifier.fit(X_train, y_train)\n",
    "\n",
    "# Make predictions\n",
    "y_pred = ensemble_classifier.predict(X_test)\n",
    "\n",
    "# Evaluate the ensemble model\n",
    "accuracy = accuracy_score(y_test, y_pred)\n",
    "recall_per_class = recall_score(y_test, y_pred, average=None)  # Changed to average=None\n",
    "f1_per_class = f1_score(y_test, y_pred, average=None)          # Changed to average=None\n",
    "\n",
    "# Print the evaluation metrics\n",
    "print(\"Ensemble Accuracy:\", accuracy)\n",
    "print(\"Ensemble Recall per class:\", recall_per_class)\n",
    "print(\"Ensemble F1-score per class:\", f1_per_class)\n"
   ]
  },
  {
   "cell_type": "markdown",
   "metadata": {},
   "source": [
    "<h1>Cross validation</h1>"
   ]
  },
  {
   "cell_type": "markdown",
   "metadata": {},
   "source": [
    "K-fold cross-validation"
   ]
  },
  {
   "cell_type": "markdown",
   "metadata": {},
   "source": [
    "We then performed hyperparemeter tuning and 10-fold cross validation to cater for the overfitting issue through an ensemble model of three models, the code to do so is presented below:"
   ]
  },
  {
   "cell_type": "code",
   "execution_count": 601,
   "metadata": {},
   "outputs": [
    {
     "name": "stdout",
     "output_type": "stream",
     "text": [
      "Accuracy for each fold: [0.449 0.404 0.583 0.526 0.62  0.652 0.762 0.803 0.668 0.68 ]\n",
      "Average accuracy: 0.6146999999999999\n"
     ]
    }
   ],
   "source": [
    "# Define the individual models\n",
    "rf_model = RandomForestClassifier(n_estimators=100, random_state=42)\n",
    "svc_model = SVC(probability=True, random_state=42)\n",
    "logreg_model = LogisticRegression(random_state=42)\n",
    "\n",
    "# Create an ensemble of the models using majority class voting\n",
    "ensemble_model = VotingClassifier(estimators=[\n",
    "    ('random_forest', rf_model),\n",
    "    ('svc', svc_model),\n",
    "    ('logistic_regression', logreg_model)\n",
    "], voting='soft')\n",
    "\n",
    "param_grid_ensemble = {\n",
    "    'weights': [[1, 1, 1], [2, 1, 1], [1, 2, 1], [1, 1, 2]]\n",
    "}\n",
    "\n",
    "# Apply 20-fold cross-validation\n",
    "grid_search_ensemble = GridSearchCV(ensemble_model, param_grid_ensemble, cv=20)\n",
    "grid_search_ensemble.fit(X, y)\n",
    "\n",
    "best_ensemble = grid_search_ensemble.best_estimator_\n",
    "\n",
    "# Evaluating best ensemble model using 10-fold CV\n",
    "scores = cross_val_score(best_ensemble, X, y, cv=10)\n",
    "print(f\"Accuracy for each fold: {scores}\")\n",
    "print(f\"Average accuracy: {scores.mean()}\")"
   ]
  },
  {
   "cell_type": "markdown",
   "metadata": {},
   "source": [
    "<h1>Regularization</h1>"
   ]
  },
  {
   "cell_type": "markdown",
   "metadata": {},
   "source": [
    "We applied Regularization to try and solve the overfitting issue we encountered."
   ]
  },
  {
   "cell_type": "code",
   "execution_count": 602,
   "metadata": {},
   "outputs": [
    {
     "name": "stdout",
     "output_type": "stream",
     "text": [
      "Linear Regression MSE: 0.22390121163289117\n",
      "Lasso Regression MSE: 0.2379750408163265\n",
      "Ridge Regression MSE: 0.22390106258843098\n"
     ]
    }
   ],
   "source": [
    "# Train a simple linear regression model and evaluate its performance\n",
    "lr = LinearRegression()\n",
    "lr.fit(X_train, y_train)\n",
    "y_pred = lr.predict(X_test)\n",
    "print(f\"Linear Regression MSE: {mean_squared_error(y_test, y_pred)}\")\n",
    "\n",
    "# Train with L1 (Lasso) regularization\n",
    "lasso = Lasso(alpha=1.0)\n",
    "lasso.fit(X_train, y_train)\n",
    "y_pred_lasso = lasso.predict(X_test)\n",
    "print(f\"Lasso Regression MSE: {mean_squared_error(y_test, y_pred_lasso)}\")\n",
    "\n",
    "# Train with L2 (Ridge) regularization\n",
    "ridge = Ridge(alpha=1.0)\n",
    "ridge.fit(X_train, y_train)\n",
    "y_pred_ridge = ridge.predict(X_test)\n",
    "print(f\"Ridge Regression MSE: {mean_squared_error(y_test, y_pred_ridge)}\")\n"
   ]
  },
  {
   "cell_type": "markdown",
   "metadata": {},
   "source": [
    "- The Linear Regression and Ridge Regression models have produced predictions that are very close to the actual outcomes in the test data, with the Linear Regression model being almost perfect. This could be a sign of overfitting, especially for the linear regression model.\n",
    "- The Lasso Regression model, while not as close in its predictions, might be offering a more generalized model that might perform better on truly unseen data or have better interpretability due to its feature selection properties.\n",
    "\n",
    "As a next step, you might want to further validate these models on different test sets, use cross-validation, or check the model's performance on truly unseen data to confirm the suspicion of overfitting and determine the best model for your use case."
   ]
  },
  {
   "cell_type": "markdown",
   "metadata": {},
   "source": [
    "<h1>Model Validation</h1>"
   ]
  },
  {
   "cell_type": "markdown",
   "metadata": {},
   "source": [
    "Here we validate the model using alternative test data..."
   ]
  },
  {
   "cell_type": "markdown",
   "metadata": {},
   "source": [
    "<h4>Preprocessing</h4>"
   ]
  },
  {
   "cell_type": "markdown",
   "metadata": {},
   "source": [
    "read in test dataset"
   ]
  },
  {
   "cell_type": "code",
   "execution_count": 603,
   "metadata": {},
   "outputs": [],
   "source": [
    "test_dataset = pd.read_csv('email.csv')\n",
    "test_dataset = test_dataset[['id', 'date', 'user', 'pc', 'content']]\n",
    "test_dataset = test_dataset.head(3000)"
   ]
  },
  {
   "cell_type": "markdown",
   "metadata": {},
   "source": [
    "Split the 'datetime' column into 'date' and 'time' columns"
   ]
  },
  {
   "cell_type": "code",
   "execution_count": 604,
   "metadata": {},
   "outputs": [],
   "source": [
    "# Split the 'datetime' column into 'date' and 'time' columns\n",
    "split_df = test_dataset['date'].str.split(' ', expand=True)\n",
    "test_dataset['date'] = split_df[0]\n",
    "test_dataset['time'] = split_df[1].fillna('00:00:00')  # Fill missing time values with a default time if needed\n",
    "# dataset.head()"
   ]
  },
  {
   "cell_type": "markdown",
   "metadata": {},
   "source": [
    "Rearrange columns"
   ]
  },
  {
   "cell_type": "code",
   "execution_count": 605,
   "metadata": {},
   "outputs": [],
   "source": [
    "# Rearrange columns\n",
    "test_dataset = test_dataset[['id', 'pc', 'user', 'date', 'time', 'content']]\n",
    "# dataset.head()"
   ]
  },
  {
   "cell_type": "markdown",
   "metadata": {},
   "source": [
    "Remove '/' from the 'date'"
   ]
  },
  {
   "cell_type": "code",
   "execution_count": 606,
   "metadata": {},
   "outputs": [],
   "source": [
    "# Remove '/' from the 'date'\n",
    "test_dataset['date'] = test_dataset['date'].str.replace('/', '')\n",
    "# dataset.head()"
   ]
  },
  {
   "cell_type": "markdown",
   "metadata": {},
   "source": [
    "Remove ':' from the 'time'"
   ]
  },
  {
   "cell_type": "code",
   "execution_count": 607,
   "metadata": {},
   "outputs": [],
   "source": [
    "# Remove ':' from the 'time'\n",
    "test_dataset['time'] = test_dataset['time'].str.replace(':', '')\n",
    "# dataset.head()"
   ]
  },
  {
   "cell_type": "markdown",
   "metadata": {},
   "source": [
    "Remove the \"PC-\" prefix"
   ]
  },
  {
   "cell_type": "code",
   "execution_count": 608,
   "metadata": {},
   "outputs": [],
   "source": [
    "# Remove the \"PC-\" prefix\n",
    "test_dataset['pc'] = test_dataset['pc'].str.replace('PC-', '')\n",
    "# dataset.head()"
   ]
  },
  {
   "cell_type": "markdown",
   "metadata": {},
   "source": [
    "Feature Engineering"
   ]
  },
  {
   "cell_type": "code",
   "execution_count": 609,
   "metadata": {},
   "outputs": [],
   "source": [
    "# Character Count\n",
    "test_dataset['char_count'] = test_dataset['content'].apply(len)\n",
    "\n",
    "# Word Count\n",
    "test_dataset['word_count'] = test_dataset['content'].apply(lambda x: len(x.split()))\n",
    "\n",
    "# Average Word Length\n",
    "test_dataset['avg_word_length'] = test_dataset['content'].apply(lambda x: sum(len(word) for word in x.split()) / len(x.split()) if len(x.split()) > 0 else 0)\n",
    "\n",
    "# Counting the number of sentences\n",
    "test_dataset['sentence_count'] = test_dataset['content'].apply(lambda x: len(sent_tokenize(x)))"
   ]
  },
  {
   "cell_type": "markdown",
   "metadata": {},
   "source": [
    "Rearrange columns"
   ]
  },
  {
   "cell_type": "code",
   "execution_count": 610,
   "metadata": {},
   "outputs": [],
   "source": [
    "# Rearrange columns\n",
    "test_dataset = test_dataset[['id', 'user', 'pc','date', 'time', 'char_count', 'word_count', 'avg_word_length', 'sentence_count', 'content']]\n",
    "# dataset.head()"
   ]
  },
  {
   "cell_type": "markdown",
   "metadata": {},
   "source": [
    "Convert column 'pc', 'date' and time to int64"
   ]
  },
  {
   "cell_type": "code",
   "execution_count": 611,
   "metadata": {},
   "outputs": [],
   "source": [
    "# Convert column 'pc', 'date' and time to int64\n",
    "test_dataset['pc'] = test_dataset['pc'].astype('int64')\n",
    "\n",
    "test_dataset['date'] = test_dataset['date'].astype('int64')\n",
    "\n",
    "test_dataset['time'] = test_dataset['time'].astype('int64')\n",
    "# dataset.head()"
   ]
  },
  {
   "cell_type": "markdown",
   "metadata": {},
   "source": [
    "Identify and standardize numeric columns"
   ]
  },
  {
   "cell_type": "code",
   "execution_count": 612,
   "metadata": {},
   "outputs": [],
   "source": [
    "# Identify numeric columns\n",
    "numeric_columns = test_dataset.select_dtypes(include=['float64', 'int64']).columns\n",
    "\n",
    "# Standardize numeric columns\n",
    "scaler = StandardScaler()\n",
    "test_dataset[numeric_columns] = scaler.fit_transform(test_dataset[numeric_columns])\n",
    "# dataset.head()"
   ]
  },
  {
   "cell_type": "markdown",
   "metadata": {},
   "source": [
    "Identify numeric anomalies"
   ]
  },
  {
   "cell_type": "code",
   "execution_count": 613,
   "metadata": {},
   "outputs": [
    {
     "name": "stdout",
     "output_type": "stream",
     "text": [
      "Normal Dataset:\n",
      "                            id     user        pc      date      time  \\\n",
      "350   {G3V3-K3EF51ED-9738KBOA}  CMB0912  0.473386 -0.933999 -1.063084   \n",
      "351   {G7D0-V4UY27UY-2315WSCF}  CMB0912  0.473386 -0.933999 -1.062032   \n",
      "352   {Q1Z5-B8YS10HL-0266UIJH}  CMB0912  0.473386 -0.933999 -1.058578   \n",
      "354   {P8K9-E2TI65VM-0282FINH}  CMB0912  0.473386 -0.933999 -1.053482   \n",
      "355   {S5S1-I2ZY13YH-0203IGWX}  CMB0912  0.473386 -0.933999 -1.049523   \n",
      "...                        ...      ...       ...       ...       ...   \n",
      "2994  {B9P1-C1WW83WB-9020EINP}  MVH0373 -1.075183  0.533015  0.194210   \n",
      "2995  {T3O3-D8RW82LE-7431HTAO}  BSH0445  0.357218  0.533015  0.196231   \n",
      "2996  {N7Q3-S9MW21NO-2758JTST}  BSH0445  0.357218  0.533015  0.196484   \n",
      "2998  {K1D9-V3BS48VJ-6560HDAE}  ABH0663 -0.194327  0.533015  0.196821   \n",
      "2999  {L3V8-T8NI34CS-9424GCQO}  PDW0259  1.236054  0.533015  0.196821   \n",
      "\n",
      "      char_count  word_count  avg_word_length  sentence_count  \\\n",
      "350    -0.556166   -0.562566        -0.059400             0.0   \n",
      "351    -1.602868   -1.792219         0.643627             0.0   \n",
      "352     0.669577    0.667087         0.080826             0.0   \n",
      "354     0.862390    1.384384        -1.267117             0.0   \n",
      "355    -0.941793   -1.074921         0.400441             0.0   \n",
      "...          ...         ...              ...             ...   \n",
      "2994    1.000114    0.462144         1.740664             0.0   \n",
      "2995   -0.404670   -0.357624        -0.225497             0.0   \n",
      "2996    0.531853    0.154731         1.270187             0.0   \n",
      "2998    0.325267    0.052260         0.929613             0.0   \n",
      "2999    0.380357    0.257202         0.430372             0.0   \n",
      "\n",
      "                                                content  \n",
      "350   apparently son link position so winter overlan...  \n",
      "351   deficient page among grandmother products cold...  \n",
      "352   different 13 mansion 30 graves even dead takin...  \n",
      "354   offensive take expecting earlier activities pu...  \n",
      "355   call clear thirty tires before attract assumpt...  \n",
      "...                                                 ...  \n",
      "2994  manufacturers alexander view vacation funeral ...  \n",
      "2995  neighbour barrow young richard courts undevelo...  \n",
      "2996  were alhazen them towards systems see brackets...  \n",
      "2998  church options scandal defections with promine...  \n",
      "2999  installing efficient steel committed life mili...  \n",
      "\n",
      "[2273 rows x 10 columns]\n",
      "\n",
      "Anomalous Dataset:\n",
      "                            id     user        pc      date      time  \\\n",
      "0     {R3I7-S4TX96FG-8219JWFF}  LAP0338  0.210409 -2.401014 -1.044511   \n",
      "1     {R0R9-E4GL59IK-2907OSWJ}  MOH0273  0.527261 -2.401014 -1.041521   \n",
      "2     {G2B2-A8XY58CP-2847ZJZL}  LAP0338  0.210409 -2.401014 -1.037983   \n",
      "3     {A3A9-F4TH89AA-8318GFGK}  LAP0338  0.210409 -2.401014 -1.037267   \n",
      "4     {E8B7-C8FZ88UF-2946RUQQ}  MOH0273  0.527261 -2.401014 -1.036804   \n",
      "...                        ...      ...       ...       ...       ...   \n",
      "2972  {M8F0-V3FG32TH-9365CHZC}  YEV0793 -1.596760  0.533015  0.185787   \n",
      "2974  {Z0D6-L8KZ59OU-0342FBDK}  FBW0747 -0.937465  0.533015  0.187977   \n",
      "2981  {Z0I9-S7AT00TI-8467XVNO}  JAM0382 -1.120640  0.533015  0.192104   \n",
      "2990  {Q6K7-W0JC41AU-2017LBTL}  WBC0192  0.409410  0.533015  0.193662   \n",
      "2997  {U5Q7-L2YV44BJ-9354EENH}  BCM0653  0.196604  0.533015  0.196610   \n",
      "\n",
      "      char_count  word_count  avg_word_length  sentence_count  \\\n",
      "0       0.848618    1.384384        -1.304174             0.0   \n",
      "1      -0.638800   -0.665037         0.002296             0.0   \n",
      "2      -1.024427   -0.972450        -0.377752             0.0   \n",
      "3       0.077364   -0.050211         0.432204             0.0   \n",
      "4       0.146226    0.052260         0.322622             0.0   \n",
      "...          ...         ...              ...             ...   \n",
      "2972    2.088133    2.204152        -0.081820             0.0   \n",
      "2974   -0.335808   -0.972450         2.540474             0.0   \n",
      "2981   -0.101677   -0.869979         3.038708             0.0   \n",
      "2990    2.515078    2.306623         0.692264             0.0   \n",
      "2997    0.228860   -0.460095         2.527504             0.0   \n",
      "\n",
      "                                                content  \n",
      "0     middle f2 systems 4 july techniques powerful d...  \n",
      "1     the breaking called allied reservations former...  \n",
      "2     slowly this uncinus winter beneath addition ex...  \n",
      "3     400 other difficult land cirrocumulus powered ...  \n",
      "4     this kmh october holliswood number advised unu...  \n",
      "...                                                 ...  \n",
      "2972  until dialogue consisted include mixed step ov...  \n",
      "2974  has notably introduced 1960s are escalated spe...  \n",
      "2981  background says dotted damore each higher beca...  \n",
      "2990  indian wax international dinner various 1953 s...  \n",
      "2997  songs only 20000 deal enemy crisis neolithic a...  \n",
      "\n",
      "[727 rows x 10 columns]\n"
     ]
    }
   ],
   "source": [
    "# Calculate Z-scores\n",
    "z_scores = stats.zscore(test_dataset.select_dtypes(include=['float64', 'int64']))\n",
    "\n",
    "# Get boolean DataFrame indicating the presence of anomalies (using a threshold of 2)\n",
    "anomalies_bool_df = pd.DataFrame(z_scores, columns=test_dataset.select_dtypes(include=['float64', 'int64']).columns, index=test_dataset.index)\n",
    "anomalies_bool_df = (anomalies_bool_df > 2) | (anomalies_bool_df < -2)\n",
    "\n",
    "# Extract anomalies\n",
    "anomalies = test_dataset[anomalies_bool_df.any(axis=1)]\n",
    "\n",
    "# Drop anomalies from the original dataset\n",
    "df_no_anomalies = test_dataset.drop(anomalies.index)\n",
    "\n",
    "# Display the datasets\n",
    "print(\"Normal Dataset:\")\n",
    "print(df_no_anomalies)\n",
    "print(\"\\nAnomalous Dataset:\")\n",
    "print(anomalies)"
   ]
  },
  {
   "cell_type": "code",
   "execution_count": 614,
   "metadata": {},
   "outputs": [],
   "source": [
    "df_no_anomalies['numeric_anomalies'] = 0\n",
    "anomalies['numeric_anomalies'] = 1\n",
    "# Combine dataframes vertically\n",
    "test_dataset = pd.concat([df_no_anomalies, anomalies])\n",
    "\n",
    "# Order by index\n",
    "test_dataset = test_dataset.sort_index()\n",
    "# test_dataset.head()"
   ]
  },
  {
   "cell_type": "markdown",
   "metadata": {},
   "source": [
    "Convert the text in 'content' to lowercase"
   ]
  },
  {
   "cell_type": "code",
   "execution_count": 615,
   "metadata": {},
   "outputs": [],
   "source": [
    "# Convert the text in 'content' to lowercase\n",
    "test_dataset['content'] = test_dataset['content'].str.lower()\n",
    "# dataset.head()"
   ]
  },
  {
   "cell_type": "markdown",
   "metadata": {},
   "source": [
    "Text Preprcessing function"
   ]
  },
  {
   "cell_type": "code",
   "execution_count": 616,
   "metadata": {},
   "outputs": [],
   "source": [
    "def preprocess_email_content(email):\n",
    "    # Tokenization\n",
    "    tokens = word_tokenize(email)\n",
    "\n",
    "    # Removal of stop words\n",
    "    stop_words = set(stopwords.words('english'))\n",
    "    filtered_tokens = [token for token in tokens if token.lower() not in stop_words]\n",
    "\n",
    "    # Stemming\n",
    "    stemmer = PorterStemmer()\n",
    "    stemmed_tokens = [stemmer.stem(token) for token in filtered_tokens]\n",
    "\n",
    "    return ' '.join(stemmed_tokens)"
   ]
  },
  {
   "cell_type": "markdown",
   "metadata": {},
   "source": [
    "Apply preprocessing to the 'content' column"
   ]
  },
  {
   "cell_type": "code",
   "execution_count": 617,
   "metadata": {},
   "outputs": [],
   "source": [
    "# Apply preprocessing to the 'content' column\n",
    "test_dataset['content'] = test_dataset['content'].apply(preprocess_email_content)"
   ]
  },
  {
   "cell_type": "markdown",
   "metadata": {},
   "source": [
    "Perform sentiment analysis"
   ]
  },
  {
   "cell_type": "code",
   "execution_count": 618,
   "metadata": {},
   "outputs": [
    {
     "data": {
      "image/png": "[encoded data removed]",
      "text/plain": [
       "<Figure size 640x480 with 1 Axes>"
      ]
     },
     "metadata": {},
     "output_type": "display_data"
    }
   ],
   "source": [
    "# Perform sentiment analysis and get polarity scores\n",
    "test_dataset['sentiment_score'] = test_dataset['content'].apply(lambda x: TextBlob(x).sentiment.polarity)\n",
    "\n",
    "# Detect anomalies using Isolation Forest\n",
    "clf = IsolationForest(contamination=0.2)\n",
    "test_dataset['sentiment_anomaly'] = clf.fit_predict(test_dataset[['sentiment_score']])\n",
    "\n",
    "# Create a color map based on the 'sentiment_anomaly' values\n",
    "colors = test_dataset['sentiment_anomaly'].apply(lambda x: 'red' if x == -1 else 'blue')\n",
    "\n",
    "# Plot sentiment scores and anomalies\n",
    "plt.scatter(test_dataset.index, test_dataset['sentiment_score'], c=colors)\n",
    "plt.xlabel('Data Point Index')\n",
    "plt.ylabel('Sentiment Score')\n",
    "plt.title('Anomaly Detection in Sentiment Scores')\n",
    "plt.show()"
   ]
  },
  {
   "cell_type": "markdown",
   "metadata": {},
   "source": [
    "Identify and Standardize numeric columns"
   ]
  },
  {
   "cell_type": "code",
   "execution_count": 619,
   "metadata": {},
   "outputs": [],
   "source": [
    "# Identify numeric columns\n",
    "numeric_columns = ['numeric_anomalies', 'sentiment_score', 'sentiment_anomaly']\n",
    "\n",
    "# Standardize numeric columns\n",
    "scaler = StandardScaler()\n",
    "test_dataset[numeric_columns] = scaler.fit_transform(test_dataset[numeric_columns])\n",
    "# dataset.head()"
   ]
  },
  {
   "cell_type": "markdown",
   "metadata": {},
   "source": [
    "Alternative test data."
   ]
  },
  {
   "cell_type": "code",
   "execution_count": 620,
   "metadata": {},
   "outputs": [],
   "source": [
    "# Alternative test data.\n",
    "# X_test = test_dataset[['char_count', 'word_count', 'avg_word_length', 'numeric_anomalies', 'sentiment_anomaly']] # 0.56\n",
    "# X_test = test_dataset[['pc', 'date', 'time', 'avg_word_length', 'numeric_anomalies', 'sentiment_anomaly']] # 0.56\n",
    "X_test = test_dataset[['pc', 'date', 'time', 'avg_word_length']]\n",
    "# X_test = test_dataset[['pc', 'date', 'time', 'char_count', 'word_count', 'avg_word_length', 'numeric_anomalies', 'sentiment_score', 'sentiment_anomaly']]"
   ]
  },
  {
   "cell_type": "markdown",
   "metadata": {},
   "source": [
    "Random Forest"
   ]
  },
  {
   "cell_type": "code",
   "execution_count": 621,
   "metadata": {},
   "outputs": [
    {
     "name": "stdout",
     "output_type": "stream",
     "text": [
      "Accuracy: 0.56\n",
      "              precision    recall  f1-score   support\n",
      "\n",
      "           0       0.61      0.76      0.68      1832\n",
      "           1       0.40      0.25      0.31      1168\n",
      "\n",
      "    accuracy                           0.56      3000\n",
      "   macro avg       0.51      0.51      0.50      3000\n",
      "weighted avg       0.53      0.56      0.54      3000\n",
      "\n"
     ]
    }
   ],
   "source": [
    "# Create and train a Random Forest classifier\n",
    "clf = RandomForestClassifier(n_estimators=100, random_state=42)\n",
    "clf.fit(X_train, y_train)\n",
    "\n",
    "# Make predictions on the test set\n",
    "y_pred = clf.predict(X_test)\n",
    "\n",
    "# Evaluate the model\n",
    "accuracy = accuracy_score(y_test, y_pred)\n",
    "print(f'Accuracy: {accuracy:.2f}')\n",
    "\n",
    "# Print a classification report for more detailed evaluation\n",
    "print(classification_report(y_test, y_pred))"
   ]
  },
  {
   "cell_type": "markdown",
   "metadata": {},
   "source": [
    "SVM Classifier"
   ]
  },
  {
   "cell_type": "code",
   "execution_count": 622,
   "metadata": {},
   "outputs": [
    {
     "name": "stdout",
     "output_type": "stream",
     "text": [
      "SVM Accuracy: 0.6106666666666667\n",
      "SVM Recall per class: 0.0\n",
      "SVM F1-score per class: 0.0\n"
     ]
    }
   ],
   "source": [
    "# Create an SVM classifier without class weights\n",
    "svm_classifier = SVC(kernel='linear', C=1.0, random_state=42)\n",
    "\n",
    "# Train the model\n",
    "svm_classifier.fit(X_train, y_train)\n",
    "\n",
    "# Make predictions\n",
    "y_pred = svm_classifier.predict(X_test)\n",
    "\n",
    "# Calculate accuracy, recall, and F1-score\n",
    "accuracy = accuracy_score(y_test, y_pred)\n",
    "recall_per_class = recall_score(y_test, y_pred)  \n",
    "f1_per_class = f1_score(y_test, y_pred)          \n",
    "\n",
    "# Print the evaluation metrics\n",
    "print(\"SVM Accuracy:\", accuracy)\n",
    "print(\"SVM Recall per class:\", recall_per_class)\n",
    "print(\"SVM F1-score per class:\", f1_per_class)"
   ]
  },
  {
   "cell_type": "markdown",
   "metadata": {},
   "source": [
    "Logistic Regression"
   ]
  },
  {
   "cell_type": "code",
   "execution_count": 623,
   "metadata": {},
   "outputs": [
    {
     "name": "stdout",
     "output_type": "stream",
     "text": [
      "Logistic Regression Accuracy: 0.58\n",
      "Logistic Regression Recall per class: 0.1703767123287671\n",
      "Logistic Regression F1-score per class: 0.24004825090470444\n"
     ]
    }
   ],
   "source": [
    "# Create a Logistic Regression classifier without class weights\n",
    "logistic_classifier = LogisticRegression(random_state=42)\n",
    "\n",
    "# Train the model\n",
    "logistic_classifier.fit(X_train, y_train)\n",
    "\n",
    "# Make predictions\n",
    "y_pred = logistic_classifier.predict(X_test)\n",
    "\n",
    "# Calculate accuracy, recall, and F1-score\n",
    "accuracy = accuracy_score(y_test, y_pred)\n",
    "recall_per_class = recall_score(y_test, y_pred)  \n",
    "f1_per_class = f1_score(y_test, y_pred)          \n",
    "\n",
    "# Print the evaluation metrics\n",
    "print(\"Logistic Regression Accuracy:\", accuracy)\n",
    "print(\"Logistic Regression Recall per class:\", recall_per_class)\n",
    "print(\"Logistic Regression F1-score per class:\", f1_per_class)"
   ]
  },
  {
   "cell_type": "markdown",
   "metadata": {},
   "source": [
    "Decision Tree"
   ]
  },
  {
   "cell_type": "code",
   "execution_count": 624,
   "metadata": {},
   "outputs": [
    {
     "name": "stdout",
     "output_type": "stream",
     "text": [
      "Decision Tree Accuracy: 0.54\n",
      "Decision Tree Recall per class: 0.398972602739726\n",
      "Decision Tree F1-score per class: 0.40311418685121114\n"
     ]
    }
   ],
   "source": [
    "# Create a Decision Tree classifier without class weights\n",
    "tree_classifier = DecisionTreeClassifier(random_state=42)\n",
    "\n",
    "# Train the model\n",
    "tree_classifier.fit(X_train, y_train)\n",
    "\n",
    "# Make predictions\n",
    "y_pred = tree_classifier.predict(X_test)\n",
    "\n",
    "# Calculate accuracy, recall, and F1-score\n",
    "accuracy = accuracy_score(y_test, y_pred)\n",
    "recall_per_class = recall_score(y_test, y_pred)  \n",
    "f1_per_class = f1_score(y_test, y_pred)          \n",
    "\n",
    "# Print the evaluation metrics\n",
    "print(\"Decision Tree Accuracy:\", accuracy)\n",
    "print(\"Decision Tree Recall per class:\", recall_per_class)\n",
    "print(\"Decision Tree F1-score per class:\", f1_per_class)"
   ]
  },
  {
   "cell_type": "markdown",
   "metadata": {},
   "source": [
    "Ensemble Classifier"
   ]
  },
  {
   "cell_type": "code",
   "execution_count": 625,
   "metadata": {},
   "outputs": [
    {
     "name": "stdout",
     "output_type": "stream",
     "text": [
      "Ensemble Accuracy: 0.5573333333333333\n",
      "Ensemble Recall per class: 0.3047945205479452\n",
      "Ensemble F1-score per class: 0.34901960784313724\n"
     ]
    }
   ],
   "source": [
    "# Create individual classifiers without class weights\n",
    "random_forest = RandomForestClassifier(random_state=42)\n",
    "svc_classifier = SVC(kernel='linear', C=1.0, probability=True, random_state=42)\n",
    "logistic_classifier = LogisticRegression(random_state=42)\n",
    "tree_classifier = DecisionTreeClassifier(random_state=42)\n",
    "\n",
    "# Create an ensemble classifier using voting\n",
    "ensemble_classifier = VotingClassifier(estimators=[\n",
    "    ('rf', random_forest),\n",
    "    ('svc', svc_classifier),\n",
    "    ('logistic', logistic_classifier),\n",
    "    ('tree', tree_classifier)\n",
    "], voting='soft')  # Use 'soft' voting for probability-based voting\n",
    "\n",
    "# Train the ensemble model\n",
    "ensemble_classifier.fit(X_train, y_train)\n",
    "\n",
    "# Make predictions\n",
    "y_pred = ensemble_classifier.predict(X_test)\n",
    "\n",
    "# Evaluate the ensemble model\n",
    "accuracy = accuracy_score(y_test, y_pred)\n",
    "recall_per_class = recall_score(y_test, y_pred)  # Changed to average=None\n",
    "f1_per_class = f1_score(y_test, y_pred)          # Changed to average=None\n",
    "\n",
    "# Print the evaluation metrics\n",
    "print(\"Ensemble Accuracy:\", accuracy)\n",
    "print(\"Ensemble Recall per class:\", recall_per_class)\n",
    "print(\"Ensemble F1-score per class:\", f1_per_class)"
   ]
  }
 ],
 "metadata": {
  "kernelspec": {
   "display_name": "base",
   "language": "python",
   "name": "python3"
  },
  "language_info": {
   "codemirror_mode": {
    "name": "ipython",
    "version": 3
   },
   "file_extension": ".py",
   "mimetype": "text/x-python",
   "name": "python",
   "nbconvert_exporter": "python",
   "pygments_lexer": "ipython3",
   "version": "3.11.4"
  }
 },
 "nbformat": 4,
 "nbformat_minor": 2
}
